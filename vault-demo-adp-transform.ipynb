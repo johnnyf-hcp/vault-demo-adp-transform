{
 "cells": [
  {
   "cell_type": "markdown",
   "metadata": {},
   "source": [
    "# HashiCorp Vault Demo for Transit Engine and Advanced Data Protection (ADP) features.\n",
    "\n",
    "This demo shows how HashiCorp Vault Transit engine encryption and ADP features work.  ADP features include Format Preserving Encryption (FPE), Data Masking, and Tokenization.\n",
    "\n",
    "## Setup of the Demo\n",
    "\n",
    "This setup is tested on MacOS and is meant to simulate a distributed setup.  The components used in this demo are:\n",
    "- Vault Enterprise installed on docker (to simulate an external Vault)\n",
    "- You have the Vault CLI installed\n",
    "\n",
    "This assumes your Vault server is installed using docker and already running on http://127.0.0.1:8200\n",
    "and you have set your VAULT_ADDR and VAULT_TOKEN variables.\n",
    "\n",
    "Note: You will need Vault to be installed with an ADP Transform license add-on.\n",
    "\n",
    "## Requirements to Run This Demo\n",
    "You will need Visual Studio Code to be installed with the Jupyter plugin.  To run this notebook in VS Code, chose the Jupyter kernel and then Bash.\n",
    "- To run the current cell, use Ctrl + Enter.\n",
    "- To run the current cell and advance to the next, use Shift+Enter."
   ]
  },
  {
   "cell_type": "markdown",
   "metadata": {},
   "source": [
    "# Setup Pre-requisites (One-time)\n",
    "\n",
    "Assumes you have docker installed and brew installed\n",
    "\n",
    "- https://docs.docker.com/desktop/install/mac-install/\n",
    "- https://brew.sh/"
   ]
  },
  {
   "cell_type": "code",
   "execution_count": null,
   "metadata": {
    "vscode": {
     "languageId": "shellscript"
    }
   },
   "outputs": [],
   "source": [
    "# Install openssl.  This is used for the RSA asymmetric encrypt/decrypt demo.\n",
    "brew install openssl"
   ]
  },
  {
   "cell_type": "markdown",
   "metadata": {},
   "source": [
    "# Setting up HashiCorp Vault"
   ]
  },
  {
   "cell_type": "code",
   "execution_count": null,
   "metadata": {
    "vscode": {
     "languageId": "shellscript"
    }
   },
   "outputs": [],
   "source": [
    "# Optional.  The following are some sample commands for running Vault Enterprise in docker.\n",
    "export VAULT_PORT=8200\n",
    "export VAULT_ADDR=\"http://127.0.0.1:${VAULT_PORT}\"\n",
    "export VAULT_TOKEN=\"root\"\n",
    "# Change the path to your license file\n",
    "export VAULT_LICENSE=$(cat $HOME/vault-enterprise/vault_local/data/vault.hclic)\n",
    "docker run -d --rm --name vault-enterprise --cap-add=IPC_LOCK \\\n",
    "-e \"VAULT_DEV_ROOT_TOKEN_ID=${VAULT_TOKEN}\" \\\n",
    "-e \"VAULT_DEV_LISTEN_ADDRESS=:${VAULT_PORT}\" \\\n",
    "-e \"VAULT_LICENSE=${VAULT_LICENSE}\" \\\n",
    "-p ${VAULT_PORT}:${VAULT_PORT} hashicorp/vault-enterprise:latest"
   ]
  },
  {
   "cell_type": "markdown",
   "metadata": {},
   "source": [
    "# Vault Transit Engine\n",
    "This section demonstrates the base encryption/decryption functions.\n",
    "\n",
    "Ref:\n",
    "- https://developer.hashicorp.com/vault/docs/secrets/transit\n",
    "- https://developer.hashicorp.com/vault/api-docs/secret/transit"
   ]
  },
  {
   "cell_type": "code",
   "execution_count": null,
   "metadata": {
    "vscode": {
     "languageId": "shellscript"
    }
   },
   "outputs": [],
   "source": [
    "# Enable transit engine at the default mount path\n",
    "#vault secrets disable transit\n",
    "vault secrets enable transit"
   ]
  },
  {
   "cell_type": "code",
   "execution_count": null,
   "metadata": {
    "vscode": {
     "languageId": "shellscript"
    }
   },
   "outputs": [],
   "source": [
    "# Create a key\n",
    "vault write -f transit/keys/demo-key\n",
    "\n",
    "# Policy sample to use key\n",
    "# Ref: https://developer.hashicorp.com/vault/tutorials/encryption-as-a-service/eaas-transit?variants=vault-deploy%3Aselfhosted#create-a-token-for-vault-clients"
   ]
  },
  {
   "cell_type": "code",
   "execution_count": null,
   "metadata": {
    "vscode": {
     "languageId": "shellscript"
    }
   },
   "outputs": [],
   "source": [
    "# Encrypt plain text with key and store cipher text\n",
    "# Before encrypting, value will be base64 encoded\n",
    "vault write -f transit/encrypt/demo-key plaintext=$(base64 <<< \"4111 1111 1111 1111\")\n",
    "\n",
    "# Store cipher text\n",
    "export CIPHERTEXT=$(vault write -f -field=ciphertext transit/encrypt/demo-key plaintext=$(base64 <<< \"4111 1111 1111 1111\"))\n",
    "echo\n",
    "echo \"Encrypted value: $CIPHERTEXT\""
   ]
  },
  {
   "cell_type": "code",
   "execution_count": null,
   "metadata": {
    "vscode": {
     "languageId": "shellscript"
    }
   },
   "outputs": [],
   "source": [
    "# Decrypt cipher text\n",
    "echo \"Encrypted value: $CIPHERTEXT\"\n",
    "echo\n",
    "echo \"Decrypted value: $(base64 --decode <<< $(vault write -field=plaintext transit/decrypt/demo-key ciphertext=$CIPHERTEXT))\"\n"
   ]
  },
  {
   "cell_type": "code",
   "execution_count": null,
   "metadata": {
    "vscode": {
     "languageId": "shellscript"
    }
   },
   "outputs": [],
   "source": [
    "# Demo key rotation\n",
    "vault write -f transit/keys/demo-key/rotate"
   ]
  },
  {
   "cell_type": "code",
   "execution_count": null,
   "metadata": {
    "vscode": {
     "languageId": "shellscript"
    }
   },
   "outputs": [],
   "source": [
    "# Show that the key_version is now incremented\n",
    "vault write -f transit/encrypt/demo-key plaintext=$(base64 <<< \"4111 1111 1111 1111\")"
   ]
  },
  {
   "cell_type": "code",
   "execution_count": null,
   "metadata": {
    "vscode": {
     "languageId": "shellscript"
    }
   },
   "outputs": [],
   "source": [
    "# Note the following commands should show errors and is expected\n",
    "\n",
    "# Show that you cannot export a key if it is not marked exportable\n",
    "vault read transit/export/encryption-key/demo-key\n",
    "\n",
    "# Show that you cannot backup the key\n",
    "vault read transit/backup/demo-key\n",
    "\n",
    "# Show that you cannot delete a key if it is not marked as deletion allowed\n",
    "vault delete transit/keys/demo-key"
   ]
  },
  {
   "cell_type": "code",
   "execution_count": null,
   "metadata": {
    "vscode": {
     "languageId": "shellscript"
    }
   },
   "outputs": [],
   "source": [
    "# Let's create a new key to show export and deletion capability\n",
    "\n",
    "# Mark as exportable on creation\n",
    "vault write -f transit/keys/demo-key2 exportable=true"
   ]
  },
  {
   "cell_type": "code",
   "execution_count": null,
   "metadata": {
    "vscode": {
     "languageId": "shellscript"
    }
   },
   "outputs": [],
   "source": [
    "# Configure allow deletion and allows backup/restore in plaintext format\n",
    "vault write transit/keys/demo-key2/config deletion_allowed=true allow_plaintext_backup=true"
   ]
  },
  {
   "cell_type": "code",
   "execution_count": null,
   "metadata": {
    "vscode": {
     "languageId": "shellscript"
    }
   },
   "outputs": [],
   "source": [
    "# Show that you can now export the key\n",
    "vault read transit/export/encryption-key/demo-key2\n",
    "echo\n",
    "# Show that you can do a backup of the key\n",
    "vault read transit/backup/demo-key2\n",
    "export KEY_BACKUP=$(vault read -field=backup transit/backup/demo-key2)"
   ]
  },
  {
   "cell_type": "code",
   "execution_count": null,
   "metadata": {
    "vscode": {
     "languageId": "shellscript"
    }
   },
   "outputs": [],
   "source": [
    "# Show that you can delete the key now\n",
    "vault delete transit/keys/demo-key2\n",
    "\n",
    "# Show that the key is deleted\n",
    "vault read transit/export/encryption-key/demo-key2"
   ]
  },
  {
   "cell_type": "code",
   "execution_count": null,
   "metadata": {
    "vscode": {
     "languageId": "shellscript"
    }
   },
   "outputs": [],
   "source": [
    "# Let's restore the key now\n",
    "echo \"Key Backup: $KEY_BACKUP\"\n",
    "# Restore the key\n",
    "vault write transit/restore/demo-key2 backup=$KEY_BACKUP\n",
    "echo\n",
    "# Show that the key is restored\n",
    "vault read transit/export/encryption-key/demo-key2"
   ]
  },
  {
   "cell_type": "markdown",
   "metadata": {},
   "source": [
    "## Vault Transit Engine - Asymmetric Encryption using RSA key\n",
    "\n",
    "This optional demo shows how an external user can use the public key portion of an transit engine RSA key to encrypt a piece of sensitive data.  The encrypted data can then be sent to the key owner for decryption using the private key stored in Vault.\n",
    "\n",
    "Note: RSA is only able to encrypt data to a maximum amount equal to your key size (2048 bits = 256 bytes), minus any padding and header data (11 bytes for PKCS#1 v1.5 padding, PSS is size of hash + salt, 42 bytes for OAEP padding)."
   ]
  },
  {
   "cell_type": "code",
   "execution_count": null,
   "metadata": {
    "vscode": {
     "languageId": "shellscript"
    }
   },
   "outputs": [],
   "source": [
    "# Note: Please enable the transit engine before executing this.\n",
    "\n",
    "# Create a new RSA 4096 bit key\n",
    "vault write transit/keys/demo-key-rsa type=rsa-4096"
   ]
  },
  {
   "cell_type": "code",
   "execution_count": null,
   "metadata": {
    "vscode": {
     "languageId": "shellscript"
    }
   },
   "outputs": [],
   "source": [
    "# View the Transit RSA key information in JSON.  Note the public key portion is under .data.keys.\"1\".public_key\n",
    "vault read -format=json transit/keys/demo-key-rsa"
   ]
  },
  {
   "cell_type": "code",
   "execution_count": null,
   "metadata": {
    "vscode": {
     "languageId": "shellscript"
    }
   },
   "outputs": [],
   "source": [
    "# Export the Public Key portion of the RSA key\n",
    "vault read -format=json transit/keys/demo-key-rsa | jq -r .data.keys.\\\"1\\\".public_key > demo-key-rsa.pub\n",
    "\n",
    "# Show the public key value\n",
    "cat demo-key-rsa.pub"
   ]
  },
  {
   "cell_type": "code",
   "execution_count": null,
   "metadata": {
    "vscode": {
     "languageId": "shellscript"
    }
   },
   "outputs": [],
   "source": [
    "# The public key is then passed to an external user to encrypt the user's secret.\n",
    "\n",
    "# Create a secret and encrypt it using openssl\n",
    "echo \"This is a top secret message\" > secret.txt\n",
    "\n",
    "openssl pkeyutl -encrypt -in secret.txt -out secret.enc -pubin -inkey demo-key-rsa.pub -pkeyopt rsa_padding_mode:oaep -pkeyopt rsa_oaep_md:sha256 \n",
    "\n",
    "# Show that the secret is now encrypted\n",
    "echo \"Encrypted Value: $(cat secret.enc)\""
   ]
  },
  {
   "cell_type": "code",
   "execution_count": null,
   "metadata": {
    "vscode": {
     "languageId": "shellscript"
    }
   },
   "outputs": [],
   "source": [
    "# The encrypted file is now sent to the private key owner\n",
    "\n",
    "# Key owner now uses the Vault to decrypt the contents using the initial key version (v1)\n",
    "# Decrypt operation - show the json structure\n",
    "vault write -format=json transit/decrypt/demo-key-rsa ciphertext=vault:v1:$(base64 -i secret.enc)"
   ]
  },
  {
   "cell_type": "code",
   "execution_count": null,
   "metadata": {
    "vscode": {
     "languageId": "shellscript"
    }
   },
   "outputs": [],
   "source": [
    "# Decrypt and base64 decode to get the secret value\n",
    "echo \"Secret Value: $(vault write -format=json transit/decrypt/demo-key-rsa ciphertext=vault:v1:$(base64 -i secret.enc) | jq -r .data.plaintext | base64 -d)\""
   ]
  },
  {
   "cell_type": "markdown",
   "metadata": {},
   "source": [
    "## Vault Transit Engine - Signing and Verification with Vault using RSA key\n",
    "\n",
    "This optional demo show how we can use Vault to sign and verify files."
   ]
  },
  {
   "cell_type": "code",
   "execution_count": null,
   "metadata": {
    "vscode": {
     "languageId": "shellscript"
    }
   },
   "outputs": [],
   "source": [
    "# Create a message for signing\n",
    "echo \"This is a my message for signing verification\" > message.txt"
   ]
  },
  {
   "cell_type": "code",
   "execution_count": null,
   "metadata": {
    "vscode": {
     "languageId": "shellscript"
    }
   },
   "outputs": [],
   "source": [
    "# Note: Please enable the transit engine before executing this.\n",
    "\n",
    "# Create an RSA key in Vault for signing\n",
    "# Note we are marking it as exportable so that we can later show offline verification use cases\n",
    "vault write transit/keys/demo-sign-key-rsa type=rsa-4096 exportable=true"
   ]
  },
  {
   "cell_type": "code",
   "execution_count": null,
   "metadata": {
    "vscode": {
     "languageId": "shellscript"
    }
   },
   "outputs": [],
   "source": [
    "# Export the public and private portions of the RSA key for use later in the offline signing/verification scenarios\n",
    "vault read -format=json transit/export/encryption-key/demo-sign-key-rsa | jq -r '.data.keys.\"1\"' > demo-sign-key-rsa-private.pem\n",
    "vault read -format=json transit/keys/demo-sign-key-rsa | jq -r .data.keys.\\\"1\\\".public_key > demo-sign-key-rsa-public.pem"
   ]
  },
  {
   "cell_type": "markdown",
   "metadata": {},
   "source": [
    "### Online signing and verification\n",
    "\n",
    "This shows how Vault is used for both signing and verification."
   ]
  },
  {
   "cell_type": "code",
   "execution_count": null,
   "metadata": {
    "vscode": {
     "languageId": "shellscript"
    }
   },
   "outputs": [],
   "source": [
    "# We need to base64 encode the message before signing it with Vault\n",
    "export B64_MESSAGE=$(base64 -i message.txt)\n",
    "\n",
    "echo \"Message (Base64): $B64_MESSAGE\""
   ]
  },
  {
   "cell_type": "code",
   "execution_count": null,
   "metadata": {
    "vscode": {
     "languageId": "shellscript"
    }
   },
   "outputs": [],
   "source": [
    "# We will be using PSS padding for our signing.  pkcs1v15 and pss is supported.\n",
    "# Ref: https://developer.hashicorp.com/vault/api-docs/secret/transit#signature_algorithm\n",
    "# Note that pkcs1v15 is deterministic.  i.e. Same signature is produced for the same message and key.\n",
    "# PSS is randomized unless you use a zero-length salt.  i.e. Different signature is produced each time.\n",
    "\n",
    "# Sign the message and get the signature\n",
    "export B64_SIGNATURE=$(vault write -format=json transit/sign/demo-sign-key-rsa/sha2-256 \\\n",
    "    input=\"$B64_MESSAGE\" \\\n",
    "    signature_algorithm=\"pss\" | \\\n",
    "    jq -r '.data.signature')\n",
    "\n",
    "echo \"Signature (Base64): $B64_SIGNATURE\""
   ]
  },
  {
   "cell_type": "code",
   "execution_count": null,
   "metadata": {
    "vscode": {
     "languageId": "shellscript"
    }
   },
   "outputs": [],
   "source": [
    "# Message and signature is sent to destination user for verification.\n",
    "# Verify the signature.  You should see valid=true.\n",
    "vault write transit/verify/demo-sign-key-rsa/sha2-256 \\\n",
    "    signature_algorithm=\"pss\" \\\n",
    "    input=$B64_MESSAGE \\\n",
    "    signature=$B64_SIGNATURE"
   ]
  },
  {
   "cell_type": "markdown",
   "metadata": {},
   "source": [
    "### Online signing and Offline verification\n",
    "\n",
    "This shows how we can do offline verification using OpenSSL.  Earlier we have already signed the message using vault."
   ]
  },
  {
   "cell_type": "code",
   "execution_count": null,
   "metadata": {
    "vscode": {
     "languageId": "shellscript"
    }
   },
   "outputs": [],
   "source": [
    "# Remove \"vault:v1:\" from signature\n",
    "export RAW_B64_SIGNATURE=\"$(cut -d':' -f3 <<< $B64_SIGNATURE)\"\n",
    "echo \"Raw Signature (base64): $RAW_B64_SIGNATURE\"\n",
    "echo\n",
    "# Save signature as a binary file (i.e. base64 decode)\n",
    "echo $RAW_B64_SIGNATURE | base64 --decode > message.signature\n",
    "echo \"Raw Signature: \"\n",
    "cat message.signature\n"
   ]
  },
  {
   "cell_type": "code",
   "execution_count": null,
   "metadata": {
    "vscode": {
     "languageId": "shellscript"
    }
   },
   "outputs": [],
   "source": [
    "# We send the message file, signature file, and public key file to the destination user.\n",
    "# Destination user can verify the message offline using OpenSSL.  You should see a \"Verified OK\" message.\n",
    "# This verifies that the message contents have not been touched.\n",
    "openssl dgst -sha256 -verify demo-sign-key-rsa-public.pem -sigopt rsa_padding_mode:pss -signature message.signature message.txt"
   ]
  },
  {
   "cell_type": "markdown",
   "metadata": {},
   "source": [
    "### Offline signing and Online verification\n",
    "\n",
    "This shows how we can do offline signing using OpenSSL and a private key created in Vault.  Vault can then be used to verify the signature online."
   ]
  },
  {
   "cell_type": "code",
   "execution_count": null,
   "metadata": {
    "vscode": {
     "languageId": "shellscript"
    }
   },
   "outputs": [],
   "source": [
    "# Sign the message using OpenSSL and save the signature file\n",
    "openssl dgst -sha256 -sigopt rsa_padding_mode:pss -sign demo-sign-key-rsa-private.pem -out message.signature message.txt\n",
    "\n",
    "echo \"Raw Signature (from OpenSSL):\"\n",
    "cat message.signature"
   ]
  },
  {
   "cell_type": "code",
   "execution_count": null,
   "metadata": {
    "vscode": {
     "languageId": "shellscript"
    }
   },
   "outputs": [],
   "source": [
    "# If you have the public key portion of the RSA key, you can also use OpenSSL to verify it locally.\n",
    "# You should see a \"Verified OK\" message.\n",
    "openssl dgst -sha256 -verify demo-sign-key-rsa-public.pem -sigopt rsa_padding_mode:pss -signature message.signature message.txt"
   ]
  },
  {
   "cell_type": "code",
   "execution_count": null,
   "metadata": {
    "vscode": {
     "languageId": "shellscript"
    }
   },
   "outputs": [],
   "source": [
    "# We send the message file, signature file to the destination user.\n",
    "# Destination user can verify the message online using Vault.  You should see valid=true.\n",
    "# This verifies that the message contents have not been touched.\n",
    "export B64_MESSAGE=$(base64 -i message.txt)\n",
    "export B64_SIGNATURE=vault:v1:$(base64 -i message.signature)\n",
    "echo \"Message (Base64): $B64_MESSAGE\"\n",
    "echo \"Signature (Base64): $B64_SIGNATURE\"\n",
    "echo\n",
    "vault write transit/verify/demo-sign-key-rsa/sha2-256 \\\n",
    "    signature_algorithm=\"pss\" \\\n",
    "    input=$B64_MESSAGE \\\n",
    "    signature=$B64_SIGNATURE"
   ]
  },
  {
   "cell_type": "markdown",
   "metadata": {},
   "source": [
    "## Setup Vault's Transform Engine (ADP Feature)"
   ]
  },
  {
   "cell_type": "code",
   "execution_count": null,
   "metadata": {
    "vscode": {
     "languageId": "shellscript"
    }
   },
   "outputs": [],
   "source": [
    "# Enable transform engine at the default mount path\n",
    "# Policy for configuration - https://developer.hashicorp.com/vault/tutorials/adp/transform#policy-requirements\n",
    "vault secrets enable transform"
   ]
  },
  {
   "cell_type": "markdown",
   "metadata": {},
   "source": [
    "# Format Preserving Encryption (FPE) Demo - Credit Card Number"
   ]
  },
  {
   "cell_type": "code",
   "execution_count": null,
   "metadata": {
    "vscode": {
     "languageId": "shellscript"
    }
   },
   "outputs": [],
   "source": [
    "# Create a role named \"payments\" with \"card-number\" transformation attached\n",
    "vault write transform/role/payments transformations=card-number"
   ]
  },
  {
   "cell_type": "code",
   "execution_count": null,
   "metadata": {
    "vscode": {
     "languageId": "shellscript"
    }
   },
   "outputs": [],
   "source": [
    "# Verify the role \"payments\" is created\n",
    "vault list transform/role"
   ]
  },
  {
   "cell_type": "code",
   "execution_count": null,
   "metadata": {
    "vscode": {
     "languageId": "shellscript"
    }
   },
   "outputs": [],
   "source": [
    "# View existing templates.  Show that we will be using \"builtin/creditcardnumber\"\n",
    "vault list transform/template"
   ]
  },
  {
   "cell_type": "code",
   "execution_count": null,
   "metadata": {
    "vscode": {
     "languageId": "shellscript"
    }
   },
   "outputs": [],
   "source": [
    "# Create a transformation named \"card-number\" which will be used by role \"payments\" to transform credit card numbers.\n",
    "# This uses the built-in template builtin/creditcardnumber to perform format-preserving encryption (FPE). \n",
    "vault write transform/transformations/fpe/card-number \\\n",
    "    template=\"builtin/creditcardnumber\" \\\n",
    "    tweak_source=internal \\\n",
    "    allowed_roles=payments"
   ]
  },
  {
   "cell_type": "code",
   "execution_count": null,
   "metadata": {
    "vscode": {
     "languageId": "shellscript"
    }
   },
   "outputs": [],
   "source": [
    "# Verify the \"card-number\" transformation is created\n",
    "vault list transform/transformations/fpe"
   ]
  },
  {
   "cell_type": "code",
   "execution_count": null,
   "metadata": {
    "vscode": {
     "languageId": "shellscript"
    }
   },
   "outputs": [],
   "source": [
    "# View the \"card-number\" transformation details\n",
    "# https://developer.hashicorp.com/vault/tutorials/adp/transform#policy-requirements\n",
    "vault read transform/transformations/fpe/card-number"
   ]
  },
  {
   "cell_type": "code",
   "execution_count": null,
   "metadata": {
    "vscode": {
     "languageId": "shellscript"
    }
   },
   "outputs": [],
   "source": [
    "# Encode credit card number using FPE\n",
    "vault write transform/encode/payments value=1111-2222-3333-4444 transformation=card-number\n",
    "\n",
    "# Store encoded value\n",
    "export FPE_ENCODED_VALUE=$(vault write -format json transform/encode/payments value=1111-2222-3333-4444 \\\n",
    "  transformation=card-number | jq -r .data.encoded_value)"
   ]
  },
  {
   "cell_type": "code",
   "execution_count": null,
   "metadata": {
    "vscode": {
     "languageId": "shellscript"
    }
   },
   "outputs": [],
   "source": [
    "# Decode credit card number\n",
    "vault write transform/decode/payments value=$FPE_ENCODED_VALUE transformation=card-number"
   ]
  },
  {
   "cell_type": "markdown",
   "metadata": {},
   "source": [
    "# FPE Demo - NRIC"
   ]
  },
  {
   "cell_type": "code",
   "execution_count": null,
   "metadata": {
    "vscode": {
     "languageId": "shellscript"
    }
   },
   "outputs": [],
   "source": [
    "# Create template for Singapore NRIC.  Note that we are not changing the front and ending letters.  \n",
    "vault write transform/template/sg-nric-tmpl \\\n",
    "    type=regex \\\n",
    "    pattern=\"[stfgSTFG](\\d{7})[a-zA-Z]\" \\\n",
    "    alphabet=builtin/numeric "
   ]
  },
  {
   "cell_type": "code",
   "execution_count": null,
   "metadata": {
    "vscode": {
     "languageId": "shellscript"
    }
   },
   "outputs": [],
   "source": [
    "# View added template\n",
    "vault list transform/template"
   ]
  },
  {
   "cell_type": "code",
   "execution_count": null,
   "metadata": {
    "vscode": {
     "languageId": "shellscript"
    }
   },
   "outputs": [],
   "source": [
    "# Create transformation named \"sg-nric\" with the \"sg-nric-tmpl\" template\n",
    "vault write transform/transformations/fpe/sg-nric \\\n",
    "    template=sg-nric-tmpl \\\n",
    "    tweak_source=internal \\\n",
    "    allowed_roles=hr-role\n"
   ]
  },
  {
   "cell_type": "code",
   "execution_count": null,
   "metadata": {
    "vscode": {
     "languageId": "shellscript"
    }
   },
   "outputs": [],
   "source": [
    "# Create a role named \"hr-role\" with \"sg-nric\" transformation attached\n",
    "vault write transform/role/hr-role transformations=sg-nric"
   ]
  },
  {
   "cell_type": "code",
   "execution_count": null,
   "metadata": {
    "vscode": {
     "languageId": "shellscript"
    }
   },
   "outputs": [],
   "source": [
    "# Encode a NRIC value\n",
    "vault write transform/encode/hr-role value=\"S7012345Z\" transformation=sg-nric\n",
    "\n",
    "export FPE_ENCODED_VALUE=$(vault write -format json transform/encode/hr-role value=\"S7012345Z\" transformation=sg-nric | jq -r .data.encoded_value)"
   ]
  },
  {
   "cell_type": "code",
   "execution_count": null,
   "metadata": {
    "vscode": {
     "languageId": "shellscript"
    }
   },
   "outputs": [],
   "source": [
    "# Decode NRIC\n",
    "echo -e \"FPE Encoded Value is: $FPE_ENCODED_VALUE\\n\"\n",
    "vault write transform/decode/hr-role value=$FPE_ENCODED_VALUE transformation=sg-nric"
   ]
  },
  {
   "cell_type": "markdown",
   "metadata": {},
   "source": [
    "# Data Masking Demo - IP Address"
   ]
  },
  {
   "cell_type": "code",
   "execution_count": null,
   "metadata": {
    "vscode": {
     "languageId": "shellscript"
    }
   },
   "outputs": [],
   "source": [
    "# Create template for IP address.  I want to mask all digits.\n",
    "vault write transform/template/ip-address-tmpl type=regex \\\n",
    "    pattern=\"(2(?:[0-4][0-9]|5[0-5])|[0-1]?[0-9]?[0-9])\\.(2(?:[0-4][0-9]|5[0-5])|[0-1]?[0-9]?[0-9])\\.(2(?:[0-4][0-9]|5[0-5])|[0-1]?[0-9]?[0-9])\\.(2(?:[0-4][0-9]|5[0-5])|[0-1]?[0-9]?[0-9])\" \\\n",
    "    alphabet=builtin/numeric"
   ]
  },
  {
   "cell_type": "code",
   "execution_count": null,
   "metadata": {
    "vscode": {
     "languageId": "shellscript"
    }
   },
   "outputs": [],
   "source": [
    "# View added template\n",
    "vault list transform/template"
   ]
  },
  {
   "cell_type": "code",
   "execution_count": null,
   "metadata": {
    "vscode": {
     "languageId": "shellscript"
    }
   },
   "outputs": [],
   "source": [
    "# Create a transformation named \"ip-address\" which will be used by role \"logging-role\" \n",
    "vault write transform/transformations/masking/ip-address \\\n",
    "    template=ip-address-tmpl \\\n",
    "    masking_character=# \\\n",
    "    allowed_roles='logging-role'\n"
   ]
  },
  {
   "cell_type": "code",
   "execution_count": null,
   "metadata": {
    "vscode": {
     "languageId": "shellscript"
    }
   },
   "outputs": [],
   "source": [
    "# Create a role named \"logging-role\" with \"ip-address\" transformation attached\n",
    "vault write transform/role/logging-role transformations=ip-address\n",
    "\n"
   ]
  },
  {
   "cell_type": "code",
   "execution_count": null,
   "metadata": {
    "vscode": {
     "languageId": "shellscript"
    }
   },
   "outputs": [],
   "source": [
    "# Mask a valid IP address\n",
    "vault write transform/encode/logging-role value=\"10.100.1.87\" \\\n",
    "    transformation=ip-address"
   ]
  },
  {
   "cell_type": "markdown",
   "metadata": {},
   "source": [
    "# Tokenization Demo - Credit Card Number\n",
    "\n",
    "The goal of Tokenization is to let end users' devices store the token rather than their sensitive values (such as credit card numbers) and still participate in transactions where the token is a stand-in for the sensitive value. For this reason the token Vault generates is completely unrelated (e.g. irreversible) to the sensitive value.\n",
    "\n",
    "Furthermore, the Tokenization transform is designed to resist a number of attacks on the values produced during encode. In particular it is designed so that attackers cannot recover plaintext even if they steal the tokenization values from Vault itself. In the default mapping mode, even stealing the underlying transform key does not allow them to recover the plaintext without also possessing the encoded token. An attacker must have gotten access to all values in the construct."
   ]
  },
  {
   "cell_type": "markdown",
   "metadata": {},
   "source": [
    "## External Storage\n",
    "\n",
    "Currently the PostgreSQL, MySQL, and MSSQL relational databases are supported as external storage backends for tokenization. The Schema Endpoint may be used to initialize and upgrade the necessary database tables. Vault uses a schema versioning table to determine if it needs to create or modify the tables when using that endpoint. If you make changes to those tables yourself, the automatic schema management may become out of sync and may fail in the future.\n",
    "\n",
    "External stores may often be preferred due to their ability to achieve a much higher scale of performance, especially when used with batch operations.\n",
    "\n",
    "https://developer.hashicorp.com/vault/docs/secrets/transform/tokenization#external-sql-stores "
   ]
  },
  {
   "cell_type": "code",
   "execution_count": null,
   "metadata": {
    "vscode": {
     "languageId": "shellscript"
    }
   },
   "outputs": [],
   "source": [
    "# Run a PostgreSQL database for tokenization demo\n",
    "docker run --name postgres \\\n",
    "     -p 5432:5432 \\\n",
    "     --rm \\\n",
    "     -e POSTGRES_USER=root \\\n",
    "     -e POSTGRES_PASSWORD=mypassword \\\n",
    "     -d postgres"
   ]
  },
  {
   "cell_type": "code",
   "execution_count": null,
   "metadata": {
    "vscode": {
     "languageId": "shellscript"
    }
   },
   "outputs": [],
   "source": [
    "# Verify Postgres database is running\n",
    "docker ps"
   ]
  },
  {
   "cell_type": "code",
   "execution_count": null,
   "metadata": {
    "vscode": {
     "languageId": "shellscript"
    }
   },
   "outputs": [],
   "source": [
    "# Create a role named \"mobile-pay\" with a transformation named \"credit-card\"\n",
    "vault write transform/role/mobile-pay transformations=credit-card"
   ]
  },
  {
   "cell_type": "code",
   "execution_count": null,
   "metadata": {
    "vscode": {
     "languageId": "shellscript"
    }
   },
   "outputs": [],
   "source": [
    "# Assumes your Vault is running on docker and connecting via the docker bridge network\n",
    "# Obtain IP address of the postgres database for configuration\n",
    "export POSTGRES_DB_IP=$(docker inspect -f '{{range .NetworkSettings.Networks}}{{.IPAddress}}{{end}}' postgres)\n",
    "echo -e \"Postgres IP Address is: $POSTGRES_DB_IP\\n\"\n",
    "# Create a store which points to the postgres database\n",
    "vault write transform/stores/postgres \\\n",
    "   type=sql \\\n",
    "   driver=postgres \\\n",
    "   supported_transformations=tokenization \\\n",
    "   connection_string=\"postgresql://{{username}}:{{password}}@$POSTGRES_DB_IP/root?sslmode=disable\" \\\n",
    "   username=root \\\n",
    "   password=mypassword\n"
   ]
  },
  {
   "cell_type": "code",
   "execution_count": null,
   "metadata": {
    "vscode": {
     "languageId": "shellscript"
    }
   },
   "outputs": [],
   "source": [
    "# Show that there is a new postgres store created\n",
    "vault list transform/stores\n",
    "echo\n",
    "vault read transform/stores/postgres"
   ]
  },
  {
   "cell_type": "code",
   "execution_count": null,
   "metadata": {
    "vscode": {
     "languageId": "shellscript"
    }
   },
   "outputs": [],
   "source": [
    "# Create a schema in postgres to store tokeniation artifacts\n",
    "vault write transform/stores/postgres/schema transformation_type=tokenization \\\n",
    "    username=root password=mypassword"
   ]
  },
  {
   "cell_type": "code",
   "execution_count": null,
   "metadata": {
    "vscode": {
     "languageId": "shellscript"
    }
   },
   "outputs": [],
   "source": [
    "# Create a transformation named \"credit-card\" which sets the generated token's max time-to-live (TTL) to 24 hours.\n",
    "# Specify the postgres store\n",
    "vault write transform/transformations/tokenization/credit-card \\\n",
    "  allowed_roles=mobile-pay \\\n",
    "  stores=postgres \\\n",
    "  max_ttl=24h\n"
   ]
  },
  {
   "cell_type": "code",
   "execution_count": null,
   "metadata": {
    "vscode": {
     "languageId": "shellscript"
    }
   },
   "outputs": [],
   "source": [
    "# You can read back the properties of the transformation\n",
    "vault read transform/transformations/tokenization/credit-card"
   ]
  },
  {
   "cell_type": "code",
   "execution_count": null,
   "metadata": {
    "vscode": {
     "languageId": "shellscript"
    }
   },
   "outputs": [],
   "source": [
    "# Tokenize a credit card number.  Specify token time to live as 30 secs.\n",
    "# Note policy to use tokenization - https://developer.hashicorp.com/vault/tutorials/adp/tokenization#tokenize-secrets\n",
    "\n",
    "# vault write transform/encode/mobile-pay value=1111-2222-3333-4444 \\\n",
    "#      transformation=credit-card \\\n",
    "#      ttl=30s \\\n",
    "#      metadata=\"Organization=HashiCorp\" \\\n",
    "#      metadata=\"Purpose=Travel\" \\\n",
    "#      metadata=\"Type=AMEX\"\n",
    "\n",
    "export TOKEN_ENCODED_VALUE=$(vault write -format json transform/encode/mobile-pay value=1111-2222-3333-4444 \\\n",
    "     transformation=credit-card \\\n",
    "     ttl=30s \\\n",
    "     metadata=\"Organization=HashiCorp\" \\\n",
    "     metadata=\"Purpose=Travel\" \\\n",
    "     metadata=\"Type=AMEX\" \\\n",
    "     | jq -r .data.encoded_value)\n",
    "echo \"encoded_value is : $TOKEN_ENCODED_VALUE\"\n",
    "\n",
    "# Note you can show the operation below within the 30s window and see the behaviour."
   ]
  },
  {
   "cell_type": "code",
   "execution_count": null,
   "metadata": {
    "vscode": {
     "languageId": "shellscript"
    }
   },
   "outputs": [],
   "source": [
    "# Retrieve metadata of the token\n",
    "vault write transform/metadata/mobile-pay value=$TOKEN_ENCODED_VALUE transformation=credit-card"
   ]
  },
  {
   "cell_type": "code",
   "execution_count": null,
   "metadata": {
    "vscode": {
     "languageId": "shellscript"
    }
   },
   "outputs": [],
   "source": [
    "# Validate the token value\n",
    "vault write transform/validate/mobile-pay value=$TOKEN_ENCODED_VALUE transformation=credit-card"
   ]
  },
  {
   "cell_type": "code",
   "execution_count": null,
   "metadata": {
    "vscode": {
     "languageId": "shellscript"
    }
   },
   "outputs": [],
   "source": [
    "# Validate if the credit card number has been tokenized already\n",
    "vault write transform/tokenized/mobile-pay value=1111-2222-3333-4444 transformation=credit-card"
   ]
  },
  {
   "cell_type": "code",
   "execution_count": null,
   "metadata": {
    "vscode": {
     "languageId": "shellscript"
    }
   },
   "outputs": [],
   "source": [
    "# Detokenize to retrieve the original plaintext credit card value\n",
    "\n",
    "# vault write transform/decode/mobile-pay transformation=credit-card value=$TOKEN_ENCODED_VALUE\n",
    "\n",
    "vault write -format json transform/decode/mobile-pay transformation=credit-card value=$TOKEN_ENCODED_VALUE | jq -r .data.decoded_value"
   ]
  },
  {
   "cell_type": "markdown",
   "metadata": {},
   "source": [
    "## View Contents of PostgreSQL Database"
   ]
  },
  {
   "cell_type": "code",
   "execution_count": null,
   "metadata": {
    "vscode": {
     "languageId": "shellscript"
    }
   },
   "outputs": [],
   "source": [
    "# Setup psql alias to the container\n",
    "alias psql=\"docker exec -it postgres psql -U root\"\n",
    "\n",
    "# View tokens in the postgres store\n",
    "psql -c '\\x auto;' -c 'select * from tokens;'"
   ]
  },
  {
   "cell_type": "markdown",
   "metadata": {},
   "source": [
    "## Convergent Tokenization\n",
    "\n",
    "By default, tokenization produces a unique token for every encode operation. This makes the resulting token fully independent of its plaintext and expiration. Sometimes, though, it may be beneficial if the tokenization of a plaintext/expiration pair tokenizes consistently to the same value. For example if one wants to do a statistical analysis of the tokens as they relate to some other field in a database (without decoding the token), or if one needed to tokenize in two different systems but be able relate the results. In this case, one can create a tokenization transformation that is convergent.\n",
    "\n",
    "When enabled at transformation creation time, Vault alters the calculation so that encoding a plaintext and expiration tokenizes to the same value every time, and storage keeps only a single entry of that token. Like the exportable mapping mode, convergence should only be enabled if needed. Convergent tokenization has a small performance penalty in external stores and a larger one in the built in store due to the need to avoid duplicate entries and to update metadata when convergently encoding. It is recommended that if one has some use cases that require convergence and some that do not, one should create two different tokenization transforms with convergence enabled on only one.\n",
    "\n",
    "https://developer.hashicorp.com/vault/docs/secrets/transform/tokenization#convergence"
   ]
  },
  {
   "cell_type": "code",
   "execution_count": null,
   "metadata": {
    "vscode": {
     "languageId": "shellscript"
    }
   },
   "outputs": [],
   "source": [
    "# Update the mobile-pay role with a convergent transformation named credit-card-convergent\n",
    "vault write transform/role/mobile-pay transformations=\"credit-card, credit-card-convergent\""
   ]
  },
  {
   "cell_type": "code",
   "execution_count": null,
   "metadata": {
    "vscode": {
     "languageId": "shellscript"
    }
   },
   "outputs": [],
   "source": [
    "# Create a transformation named credit-card-convergent which sets the enables the convergent encryption. \n",
    "# When you define a transformation, set convergent=true.\n",
    "vault write transform/transformations/tokenization/credit-card-convergent \\\n",
    "     allowed_roles=\"*\" \\\n",
    "     convergent=true"
   ]
  },
  {
   "cell_type": "code",
   "execution_count": null,
   "metadata": {
    "vscode": {
     "languageId": "shellscript"
    }
   },
   "outputs": [],
   "source": [
    "# Encode a value using the credit-card-convergent transformation\n",
    "vault write transform/encode/mobile-pay value=5555-6666-7777-8888 \\\n",
    "     transformation=credit-card-convergent"
   ]
  },
  {
   "cell_type": "code",
   "execution_count": null,
   "metadata": {
    "vscode": {
     "languageId": "shellscript"
    }
   },
   "outputs": [],
   "source": [
    "# Run the command again\n",
    "# The same encrypted value will be returned\n",
    "vault write transform/encode/mobile-pay value=5555-6666-7777-8888 \\\n",
    "     transformation=credit-card-convergent"
   ]
  },
  {
   "cell_type": "markdown",
   "metadata": {},
   "source": [
    "# Cleanup"
   ]
  },
  {
   "cell_type": "code",
   "execution_count": null,
   "metadata": {
    "vscode": {
     "languageId": "shellscript"
    }
   },
   "outputs": [],
   "source": [
    "# Cleanup\n",
    "# stop PostgreSQL container\n",
    "docker stop postgres\n",
    "\n",
    "# Disable transit engine\n",
    "vault secrets disable transit\n",
    "\n",
    "# Remove asymmetric encryption demo files\n",
    "rm demo-key-rsa.pub\n",
    "rm secret.txt\n",
    "rm secret.enc\n",
    "\n",
    "# Remove signing/verification demo files\n",
    "rm message.txt\n",
    "rm demo-sign-key-rsa-private.pem\n",
    "rm demo-sign-key-rsa-public.pem\n",
    "rm message.signature\n",
    "\n",
    "# Disable transform engine\n",
    "vault secrets disable transform\n",
    "\n",
    "# Stop Vault container\n",
    "docker stop vault-enterprise"
   ]
  },
  {
   "cell_type": "markdown",
   "metadata": {},
   "source": [
    "# Other Useful Commands and Examples"
   ]
  },
  {
   "cell_type": "code",
   "execution_count": null,
   "metadata": {
    "vscode": {
     "languageId": "shellscript"
    }
   },
   "outputs": [],
   "source": [
    "# Generate a string of random bytes\n",
    "# https://developer.hashicorp.com/vault/api-docs/system/tools#generate-random-bytes\n",
    "# e.g. AES 256 is 256 bits or 32 bytes\n",
    "# Format can be base64 or hex\n",
    "vault write sys/tools/random/32 format=base64\n",
    "echo\n",
    "vault write sys/tools/random/32 format=hex\n",
    "echo \n",
    "vault write -field=random_bytes sys/tools/random/32 format=base64\n",
    "echo\n",
    "vault write -field=random_bytes sys/tools/random/32 format=hex"
   ]
  },
  {
   "cell_type": "code",
   "execution_count": null,
   "metadata": {
    "vscode": {
     "languageId": "shellscript"
    }
   },
   "outputs": [],
   "source": [
    "# Example of generating a random 256-bit key (32 bytes) and storing it as a static secret in the KV engine\n",
    "# Variable for my secret path\n",
    "MOUNTPATH=secret\n",
    "KEYNAME=demo-app-key-1\n",
    "VALUENAME=value\n",
    "# Generates a 256-bit key in base64 and stores it in the secret path with the name \"value\"\n",
    "vault kv put $MOUNTPATH/$KEYNAME $VALUENAME=\"$(vault write -field=random_bytes sys/tools/random/32 format=base64)\"\n",
    "echo\n",
    "# Application can read back key value with the proper permission policy.\n",
    "vault kv get -mount=$MOUNTPATH -field $VALUENAME $KEYNAME"
   ]
  },
  {
   "cell_type": "code",
   "execution_count": null,
   "metadata": {
    "vscode": {
     "languageId": "shellscript"
    }
   },
   "outputs": [],
   "source": [
    "# Demo of -output-policy flag\n",
    "vault write -output-policy sys/tools/random/32 format=base64"
   ]
  }
 ],
 "metadata": {
  "kernelspec": {
   "display_name": "Bash",
   "language": "bash",
   "name": "bash"
  },
  "language_info": {
   "codemirror_mode": "shell",
   "file_extension": ".sh",
   "mimetype": "text/x-sh",
   "name": "bash"
  },
  "orig_nbformat": 4
 },
 "nbformat": 4,
 "nbformat_minor": 2
}
